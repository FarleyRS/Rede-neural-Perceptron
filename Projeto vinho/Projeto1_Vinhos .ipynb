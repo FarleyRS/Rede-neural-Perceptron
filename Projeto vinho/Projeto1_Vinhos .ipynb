{
  "nbformat": 4,
  "nbformat_minor": 0,
  "metadata": {
    "colab": {
      "name": "Projeto1 - Vinhos.ipynb",
      "provenance": [],
      "collapsed_sections": []
    },
    "kernelspec": {
      "name": "python3",
      "display_name": "Python 3"
    },
    "language_info": {
      "name": "python"
    }
  },
  "cells": [
    {
      "cell_type": "markdown",
      "source": [
        "Classificar os vinhos usando a rede neural Perceptron Multicamadas\n",
        "(Completo)"
      ],
      "metadata": {
        "id": "ilBIiveIT6r0"
      }
    },
    {
      "cell_type": "code",
      "source": [
        "#Carreguando os dados da tabela wine_quality\n",
        "from sklearn.datasets import load_wine\n",
        "\n",
        "wine = load_wine()\n",
        "y = wine.target"
      ],
      "metadata": {
        "id": "3ovqOnmE6TXf"
      },
      "execution_count": 59,
      "outputs": []
    },
    {
      "cell_type": "code",
      "source": [
        "#Separar Amostras: treino e teste\n",
        "from sklearn.model_selection import train_test_split\n",
        "\n",
        "datasets = train_test_split(wine.data, wine.target, test_size=0.3, random_state=1)\n",
        "\n",
        "X_train, X_test, y_train, y_test = datasets"
      ],
      "metadata": {
        "id": "eNBK3l1568zT"
      },
      "execution_count": 77,
      "outputs": []
    },
    {
      "cell_type": "code",
      "source": [
        "#Escalonar dados\n",
        "from sklearn.preprocessing import StandardScaler\n",
        "\n",
        "sc = StandardScaler()\n",
        "sc.fit(X_train)\n",
        "\n",
        "X_train = sc.transform(X_train)\n",
        "X_test = sc.transform(X_test)"
      ],
      "metadata": {
        "id": "G8LXCWYg7-W_"
      },
      "execution_count": 78,
      "outputs": []
    },
    {
      "cell_type": "code",
      "source": [
        "#Treinamento\n",
        "# Utilizabdo uma rede Perceptron Multicamadas com uma camada oculta com 2 neurônios\n",
        "from sklearn.neural_network import MLPClassifier\n",
        "\n",
        "classificador = MLPClassifier(solver='adam', hidden_layer_sizes=(10,5), learning_rate_init=0.1, max_iter=1000)\n",
        "\n",
        "classificador.fit(X_train, y_train)\n",
        "print(\"Epocas:\",classificador.n_iter_)"
      ],
      "metadata": {
        "colab": {
          "base_uri": "https://localhost:8080/"
        },
        "id": "DO0rUXtB8diS",
        "outputId": "c8468c69-1aa2-4e58-eb6c-6a4c9155ebbe"
      },
      "execution_count": 79,
      "outputs": [
        {
          "output_type": "stream",
          "name": "stdout",
          "text": [
            "Epocas: 39\n"
          ]
        }
      ]
    },
    {
      "cell_type": "code",
      "source": [
        "import matplotlib.pyplot as plt\n",
        "\n",
        "x = list(range(0,len(classificador.loss_curve_)))\n",
        "y = classificador.loss_curve_\n",
        "plt.xlabel('Epoca')\n",
        "plt.ylabel('Erro')\n",
        "plt.plot(x,y)\n",
        "plt.show()"
      ],
      "metadata": {
        "colab": {
          "base_uri": "https://localhost:8080/",
          "height": 282
        },
        "id": "5KUPWsTHxGQD",
        "outputId": "67b8edb4-b6ac-4c34-ba5a-01fe47425a87"
      },
      "execution_count": 80,
      "outputs": [
        {
          "output_type": "display_data",
          "data": {
            "text/plain": [
              "<Figure size 432x288 with 1 Axes>"
            ],
            "image/png": "[encoded data removed]"
          },
          "metadata": {
            "needs_background": "light"
          }
        }
      ]
    },
    {
      "cell_type": "code",
      "source": [
        "# predições e verificação da acurácia\n",
        "from sklearn.metrics import accuracy_score\n",
        "\n",
        "y_pred = classificador.predict(X_train)\n",
        "\n",
        "accuracy_score(y_pred, y_train)"
      ],
      "metadata": {
        "colab": {
          "base_uri": "https://localhost:8080/"
        },
        "id": "nN658uS6GSpB",
        "outputId": "446fa227-3c94-4e95-8968-3729458bf5f7"
      },
      "execution_count": 81,
      "outputs": [
        {
          "output_type": "execute_result",
          "data": {
            "text/plain": [
              "1.0"
            ]
          },
          "metadata": {},
          "execution_count": 81
        }
      ]
    },
    {
      "cell_type": "code",
      "source": [
        "print(\"Esperado: \",y_test[:10],\"\\nRecebido: \", y_pred[:10])"
      ],
      "metadata": {
        "colab": {
          "base_uri": "https://localhost:8080/"
        },
        "id": "kgWTari2J1x6",
        "outputId": "138f91e7-4e0d-42d8-f5d3-7a6109e6f458"
      },
      "execution_count": 36,
      "outputs": [
        {
          "output_type": "stream",
          "name": "stdout",
          "text": [
            "Esperado:  [2 1 0 1 0 2 1 0 2 1] \n",
            "Recebido:  [2 1 0 1 0 2 1 0 2 1]\n"
          ]
        }
      ]
    }
  ]
}